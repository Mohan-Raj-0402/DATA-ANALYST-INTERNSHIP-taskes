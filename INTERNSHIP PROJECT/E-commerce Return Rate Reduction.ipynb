{
 "cells": [
  {
   "cell_type": "code",
   "execution_count": 64,
   "id": "16cfba6b",
   "metadata": {
    "scrolled": true
   },
   "outputs": [
    {
     "name": "stdout",
     "output_type": "stream",
     "text": [
      "   Row ID+O6G3A1:R6        Order_ID Order_Date  Ship_Date       Ship_Mode  \\\n",
      "0              4918  CA-2019-160304 2019-01-01 2019-01-07  Standard Class   \n",
      "1              4919  CA-2019-160304 2019-01-02 2019-01-07  Standard Class   \n",
      "2              4920  CA-2019-160304 2019-01-02 2019-01-07  Standard Class   \n",
      "3              3074  CA-2019-125206 2019-01-03 2019-01-05     First Class   \n",
      "4              8604  US-2019-116365 2019-01-03 2019-01-08  Standard Class   \n",
      "\n",
      "  Customer_ID      Customer_Name    Segment        Country          City  ...  \\\n",
      "0    BM-11575      Brendan Murry  Corporate  United States  Gaithersburg  ...   \n",
      "1    BM-11575      Brendan Murry  Corporate  United States  Gaithersburg  ...   \n",
      "2    BM-11575      Brendan Murry  Corporate  United States  Gaithersburg  ...   \n",
      "3    LR-16915       Lena Radford   Consumer  United States   Los Angeles  ...   \n",
      "4    CA-12310  Christine Abelman  Corporate  United States   San Antonio  ...   \n",
      "\n",
      "        Product_ID         Category       P_Name  \\\n",
      "0  FUR-BO-10004709        Furniture    Bookcases   \n",
      "1  FUR-BO-10004709        Furniture    Bookcases   \n",
      "2  TEC-PH-10000455       Technology       Phones   \n",
      "3  OFF-ST-10003692  Office Supplies      Storage   \n",
      "4  TEC-AC-10002217       Technology  Accessories   \n",
      "\n",
      "                                        Product_Name  P_Rate Quantity  \\\n",
      "0  Bush Westfield Collection Bookcases, Medium Ch...   73.94        1   \n",
      "1  Bush Westfield Collection Bookcases, Medium Ch...  173.94        3   \n",
      "2                                        GE 30522EE2  231.98        2   \n",
      "3  Recycled Steel Personal File for Hanging File ...  114.46        2   \n",
      "4                Imation Clip USB flash drive - 8 GB   30.08        2   \n",
      "\n",
      "    Profit  Returns  Payment_Mode  Total Sales  \n",
      "0  28.2668        0        Online        73.94  \n",
      "1  38.2668        0        Online       521.82  \n",
      "2  67.2742        0         Cards       463.96  \n",
      "3  28.6150        0        Online       228.92  \n",
      "4  -5.2640        0        Online        60.16  \n",
      "\n",
      "[5 rows x 22 columns]\n",
      "<class 'pandas.core.frame.DataFrame'>\n",
      "RangeIndex: 5901 entries, 0 to 5900\n",
      "Data columns (total 22 columns):\n",
      " #   Column            Non-Null Count  Dtype         \n",
      "---  ------            --------------  -----         \n",
      " 0   Row ID+O6G3A1:R6  5901 non-null   int64         \n",
      " 1   Order_ID          5901 non-null   object        \n",
      " 2   Order_Date        5901 non-null   datetime64[ns]\n",
      " 3   Ship_Date         5901 non-null   datetime64[ns]\n",
      " 4   Ship_Mode         5901 non-null   object        \n",
      " 5   Customer_ID       5901 non-null   object        \n",
      " 6   Customer_Name     5901 non-null   object        \n",
      " 7   Segment           5901 non-null   object        \n",
      " 8   Country           5901 non-null   object        \n",
      " 9   City              5901 non-null   object        \n",
      " 10  State             5901 non-null   object        \n",
      " 11  Region            5901 non-null   object        \n",
      " 12  Product_ID        5901 non-null   object        \n",
      " 13  Category          5901 non-null   object        \n",
      " 14  P_Name            5901 non-null   object        \n",
      " 15  Product_Name      5901 non-null   object        \n",
      " 16  P_Rate            5901 non-null   float64       \n",
      " 17  Quantity          5901 non-null   int64         \n",
      " 18  Profit            5901 non-null   float64       \n",
      " 19  Returns           5901 non-null   int64         \n",
      " 20  Payment_Mode      5901 non-null   object        \n",
      " 21  Total Sales       5901 non-null   float64       \n",
      "dtypes: datetime64[ns](2), float64(3), int64(3), object(14)\n",
      "memory usage: 1014.4+ KB\n",
      "None\n",
      "Row ID+O6G3A1:R6    0\n",
      "Order_ID            0\n",
      "Order_Date          0\n",
      "Ship_Date           0\n",
      "Ship_Mode           0\n",
      "Customer_ID         0\n",
      "Customer_Name       0\n",
      "Segment             0\n",
      "Country             0\n",
      "City                0\n",
      "State               0\n",
      "Region              0\n",
      "Product_ID          0\n",
      "Category            0\n",
      "P_Name              0\n",
      "Product_Name        0\n",
      "P_Rate              0\n",
      "Quantity            0\n",
      "Profit              0\n",
      "Returns             0\n",
      "Payment_Mode        0\n",
      "Total Sales         0\n",
      "dtype: int64\n"
     ]
    }
   ],
   "source": [
    "import pandas as pd\n",
    "import numpy as np\n",
    "import matplotlib.pyplot as plt\n",
    "import seaborn as sns\n",
    "\n",
    "# Load dataset\n",
    "df = pd.read_excel(r\"SuperStore Sales DataSet.xlsx\")  # Update with your actual file path\n",
    "\n",
    "# Show first few rows\n",
    "print(df.head())\n",
    "\n",
    "# Basic info\n",
    "print(df.info())\n",
    "\n",
    "# Check for missing values\n",
    "print(df.isnull().sum())\n"
   ]
  },
  {
   "cell_type": "markdown",
   "id": "d4ea243f",
   "metadata": {},
   "source": [
    "Data Preprocessing"
   ]
  },
  {
   "cell_type": "code",
   "execution_count": 65,
   "id": "1f81f11d",
   "metadata": {},
   "outputs": [],
   "source": [
    "import pandas as pd\n",
    "import numpy as np\n",
    "from sklearn.preprocessing import LabelEncoder\n",
    "from sklearn.model_selection import train_test_split\n",
    "\n",
    "# Load the dataset\n",
    "df = pd.read_excel('SuperStore Sales DataSet.xlsx')\n",
    "\n",
    "# Clean the data\n",
    "# Drop any duplicate rows\n",
    "df.drop_duplicates(inplace=True)\n",
    "\n",
    "# Check for missing values and handle them\n",
    "df.isnull().sum()\n",
    "\n",
    "# Handle missing values - let's fill missing numerical columns with the mean, and categorical columns with the mode\n",
    "df['P_Rate'].fillna(df['P_Rate'].mean(), inplace=True)\n",
    "df['Profit'].fillna(df['Profit'].mean(), inplace=True)\n",
    "df['Category'].fillna(df['Category'].mode()[0], inplace=True)\n",
    "\n",
    "# Convert Order_Date and Ship_Date to datetime format\n",
    "df['Order_Date'] = pd.to_datetime(df['Order_Date'])\n",
    "df['Ship_Date'] = pd.to_datetime(df['Ship_Date'])\n",
    "\n",
    "# Encode categorical variables using Label Encoding or One-Hot Encoding\n",
    "label_encoder = LabelEncoder()\n",
    "\n",
    "# Encode categorical variables with label encoding for simplicity\n",
    "df['Ship_Mode'] = label_encoder.fit_transform(df['Ship_Mode'])\n",
    "df['Segment'] = label_encoder.fit_transform(df['Segment'])\n",
    "df['Category'] = label_encoder.fit_transform(df['Category'])\n",
    "df['Payment_Mode'] = label_encoder.fit_transform(df['Payment_Mode'])\n",
    "\n",
    "# Create the target variable (e.g., whether the product was returned or not)\n",
    "df['Returned'] = df['Returns'].apply(lambda x: 1 if x > 0 else 0)  # Binary classification: 1 for returned, 0 for not\n"
   ]
  },
  {
   "cell_type": "code",
   "execution_count": 66,
   "id": "ce88a051",
   "metadata": {},
   "outputs": [
    {
     "name": "stdout",
     "output_type": "stream",
     "text": [
      "['Row ID+O6G3A1:R6', 'Order_ID', 'Order_Date', 'Ship_Date', 'Ship_Mode', 'Customer_ID', 'Customer_Name', 'Segment', 'Country', 'City', 'State', 'Region', 'Product_ID', 'Category', 'P_Name', 'Product_Name', 'P_Rate', 'Quantity', 'Profit', 'Returns', 'Payment_Mode', 'Total Sales', 'Returned']\n"
     ]
    }
   ],
   "source": [
    "print(df.columns.tolist())"
   ]
  },
  {
   "cell_type": "markdown",
   "id": "225deae2",
   "metadata": {},
   "source": [
    " Exploratory Data Analysis (EDA)"
   ]
  },
  {
   "cell_type": "code",
   "execution_count": 67,
   "id": "2642659a",
   "metadata": {
    "scrolled": false
   },
   "outputs": [
    {
     "data": {
      "image/png": "[encoded data removed]",
      "text/plain": [
       "<Figure size 576x432 with 1 Axes>"
      ]
     },
     "metadata": {},
     "output_type": "display_data"
    },
    {
     "data": {
      "image/png": "[encoded data removed]",
      "text/plain": [
       "<Figure size 576x432 with 1 Axes>"
      ]
     },
     "metadata": {},
     "output_type": "display_data"
    },
    {
     "data": {
      "image/png": "[encoded data removed]",
      "text/plain": [
       "<Figure size 576x432 with 2 Axes>"
      ]
     },
     "metadata": {},
     "output_type": "display_data"
    },
    {
     "data": {
      "image/png": "[encoded data removed]",
      "text/plain": [
       "<Figure size 720x432 with 1 Axes>"
      ]
     },
     "metadata": {},
     "output_type": "display_data"
    },
    {
     "data": {
      "image/png": "[encoded data removed]",
      "text/plain": [
       "<Figure size 720x432 with 1 Axes>"
      ]
     },
     "metadata": {},
     "output_type": "display_data"
    }
   ],
   "source": [
    "import matplotlib.pyplot as plt\n",
    "import seaborn as sns\n",
    "\n",
    "# Set style for the plots\n",
    "sns.set(style=\"whitegrid\")\n",
    "\n",
    "# Distribution of Returns\n",
    "plt.figure(figsize=(8, 6))\n",
    "sns.countplot(x='Returned', data=df)\n",
    "plt.title('Distribution of Returns')\n",
    "plt.show()\n",
    "\n",
    "# Distribution of Total Sales\n",
    "plt.figure(figsize=(8, 6))\n",
    "sns.histplot(df['Total Sales'], bins=30, kde=True)\n",
    "plt.title('Distribution of Total Sales')\n",
    "plt.show()\n",
    "\n",
    "# Correlation heatmap to visualize relationships between numerical features\n",
    "corr_matrix = df[['P_Rate', 'Quantity', 'Profit', 'Total Sales', 'Returns']].corr()\n",
    "plt.figure(figsize=(8, 6))\n",
    "sns.heatmap(corr_matrix, annot=True, cmap='coolwarm', linewidths=0.5)\n",
    "plt.title('Correlation Matrix')\n",
    "plt.show()\n",
    "\n",
    "# Return rates across different categories\n",
    "plt.figure(figsize=(10, 6))\n",
    "sns.barplot(x='Category', y='Returns', data=df)\n",
    "plt.title('Return Rates by Product Category')\n",
    "plt.xticks(rotation=90)\n",
    "plt.show()\n",
    "\n",
    "# Return rates across different payment modes\n",
    "plt.figure(figsize=(10, 6))\n",
    "sns.barplot(x='Payment_Mode', y='Returns', data=df)\n",
    "plt.title('Return Rates by Payment Mode')\n",
    "plt.xticks(rotation=45)\n",
    "plt.show()\n"
   ]
  },
  {
   "cell_type": "markdown",
   "id": "a107e121",
   "metadata": {},
   "source": [
    "Modeling"
   ]
  },
  {
   "cell_type": "code",
   "execution_count": 68,
   "id": "f0828fc8",
   "metadata": {},
   "outputs": [
    {
     "name": "stderr",
     "output_type": "stream",
     "text": [
      "C:\\Users\\MMM\\anaconda3\\lib\\site-packages\\sklearn\\linear_model\\_logistic.py:814: ConvergenceWarning: lbfgs failed to converge (status=1):\n",
      "STOP: TOTAL NO. of ITERATIONS REACHED LIMIT.\n",
      "\n",
      "Increase the number of iterations (max_iter) or scale the data as shown in:\n",
      "    https://scikit-learn.org/stable/modules/preprocessing.html\n",
      "Please also refer to the documentation for alternative solver options:\n",
      "    https://scikit-learn.org/stable/modules/linear_model.html#logistic-regression\n",
      "  n_iter_i = _check_optimize_result(\n"
     ]
    },
    {
     "name": "stdout",
     "output_type": "stream",
     "text": [
      "Logistic Regression Accuracy:  0.950875211744777\n",
      "              precision    recall  f1-score   support\n",
      "\n",
      "           0       0.95      1.00      0.97      1684\n",
      "           1       0.00      0.00      0.00        87\n",
      "\n",
      "    accuracy                           0.95      1771\n",
      "   macro avg       0.48      0.50      0.49      1771\n",
      "weighted avg       0.90      0.95      0.93      1771\n",
      "\n",
      "Random Forest Accuracy:  0.9503105590062112\n",
      "              precision    recall  f1-score   support\n",
      "\n",
      "           0       0.95      1.00      0.97      1684\n",
      "           1       0.00      0.00      0.00        87\n",
      "\n",
      "    accuracy                           0.95      1771\n",
      "   macro avg       0.48      0.50      0.49      1771\n",
      "weighted avg       0.90      0.95      0.93      1771\n",
      "\n",
      "XGBoost Accuracy:  0.9435347261434218\n",
      "              precision    recall  f1-score   support\n",
      "\n",
      "           0       0.95      0.99      0.97      1684\n",
      "           1       0.00      0.00      0.00        87\n",
      "\n",
      "    accuracy                           0.94      1771\n",
      "   macro avg       0.48      0.50      0.49      1771\n",
      "weighted avg       0.90      0.94      0.92      1771\n",
      "\n"
     ]
    },
    {
     "name": "stderr",
     "output_type": "stream",
     "text": [
      "C:\\Users\\MMM\\anaconda3\\lib\\site-packages\\sklearn\\metrics\\_classification.py:1318: UndefinedMetricWarning: Precision and F-score are ill-defined and being set to 0.0 in labels with no predicted samples. Use `zero_division` parameter to control this behavior.\n",
      "  _warn_prf(average, modifier, msg_start, len(result))\n",
      "C:\\Users\\MMM\\anaconda3\\lib\\site-packages\\sklearn\\metrics\\_classification.py:1318: UndefinedMetricWarning: Precision and F-score are ill-defined and being set to 0.0 in labels with no predicted samples. Use `zero_division` parameter to control this behavior.\n",
      "  _warn_prf(average, modifier, msg_start, len(result))\n",
      "C:\\Users\\MMM\\anaconda3\\lib\\site-packages\\sklearn\\metrics\\_classification.py:1318: UndefinedMetricWarning: Precision and F-score are ill-defined and being set to 0.0 in labels with no predicted samples. Use `zero_division` parameter to control this behavior.\n",
      "  _warn_prf(average, modifier, msg_start, len(result))\n",
      "C:\\Users\\MMM\\anaconda3\\lib\\site-packages\\sklearn\\linear_model\\_logistic.py:814: ConvergenceWarning: lbfgs failed to converge (status=1):\n",
      "STOP: TOTAL NO. of ITERATIONS REACHED LIMIT.\n",
      "\n",
      "Increase the number of iterations (max_iter) or scale the data as shown in:\n",
      "    https://scikit-learn.org/stable/modules/preprocessing.html\n",
      "Please also refer to the documentation for alternative solver options:\n",
      "    https://scikit-learn.org/stable/modules/linear_model.html#logistic-regression\n",
      "  n_iter_i = _check_optimize_result(\n",
      "C:\\Users\\MMM\\anaconda3\\lib\\site-packages\\sklearn\\linear_model\\_logistic.py:814: ConvergenceWarning: lbfgs failed to converge (status=1):\n",
      "STOP: TOTAL NO. of ITERATIONS REACHED LIMIT.\n",
      "\n",
      "Increase the number of iterations (max_iter) or scale the data as shown in:\n",
      "    https://scikit-learn.org/stable/modules/preprocessing.html\n",
      "Please also refer to the documentation for alternative solver options:\n",
      "    https://scikit-learn.org/stable/modules/linear_model.html#logistic-regression\n",
      "  n_iter_i = _check_optimize_result(\n",
      "C:\\Users\\MMM\\anaconda3\\lib\\site-packages\\sklearn\\linear_model\\_logistic.py:814: ConvergenceWarning: lbfgs failed to converge (status=1):\n",
      "STOP: TOTAL NO. of ITERATIONS REACHED LIMIT.\n",
      "\n",
      "Increase the number of iterations (max_iter) or scale the data as shown in:\n",
      "    https://scikit-learn.org/stable/modules/preprocessing.html\n",
      "Please also refer to the documentation for alternative solver options:\n",
      "    https://scikit-learn.org/stable/modules/linear_model.html#logistic-regression\n",
      "  n_iter_i = _check_optimize_result(\n"
     ]
    },
    {
     "name": "stdout",
     "output_type": "stream",
     "text": [
      "Logistic Regression CV Mean Score: 0.9510252730377877\n",
      "Random Forest CV Mean Score: 0.9510252730377877\n",
      "XGBoost CV Mean Score: 0.9459406707903385\n"
     ]
    }
   ],
   "source": [
    "from sklearn.ensemble import RandomForestClassifier\n",
    "from sklearn.linear_model import LogisticRegression\n",
    "from sklearn.model_selection import cross_val_score\n",
    "from sklearn.metrics import accuracy_score, classification_report\n",
    "from xgboost import XGBClassifier\n",
    "\n",
    "# Feature selection: Drop non-numerical columns or those not needed for the model\n",
    "X = df[['P_Rate', 'Quantity', 'Profit', 'Total Sales', 'Ship_Mode', 'Segment', 'Category', 'Payment_Mode']]\n",
    "y = df['Returned']\n",
    "\n",
    "# Train-test split\n",
    "X_train, X_test, y_train, y_test = train_test_split(X, y, test_size=0.3, random_state=42)\n",
    "\n",
    "# Models to try: Logistic Regression, Random Forest, XGBoost\n",
    "\n",
    "# 1. Logistic Regression\n",
    "logreg = LogisticRegression()\n",
    "logreg.fit(X_train, y_train)\n",
    "logreg_preds = logreg.predict(X_test)\n",
    "\n",
    "# 2. Random Forest\n",
    "rf = RandomForestClassifier(n_estimators=100, random_state=42)\n",
    "rf.fit(X_train, y_train)\n",
    "rf_preds = rf.predict(X_test)\n",
    "\n",
    "# 3. XGBoost\n",
    "xgb = XGBClassifier(n_estimators=100, random_state=42)\n",
    "xgb.fit(X_train, y_train)\n",
    "xgb_preds = xgb.predict(X_test)\n",
    "\n",
    "# Evaluate models\n",
    "print(\"Logistic Regression Accuracy: \", accuracy_score(y_test, logreg_preds))\n",
    "print(classification_report(y_test, logreg_preds))\n",
    "\n",
    "print(\"Random Forest Accuracy: \", accuracy_score(y_test, rf_preds))\n",
    "print(classification_report(y_test, rf_preds))\n",
    "\n",
    "print(\"XGBoost Accuracy: \", accuracy_score(y_test, xgb_preds))\n",
    "print(classification_report(y_test, xgb_preds))\n",
    "\n",
    "# Cross-validation to evaluate model performance\n",
    "logreg_cv = cross_val_score(logreg, X, y, cv=5)\n",
    "rf_cv = cross_val_score(rf, X, y, cv=5)\n",
    "xgb_cv = cross_val_score(xgb, X, y, cv=5)\n",
    "\n",
    "print(f'Logistic Regression CV Mean Score: {logreg_cv.mean()}')\n",
    "print(f'Random Forest CV Mean Score: {rf_cv.mean()}')\n",
    "print(f'XGBoost CV Mean Score: {xgb_cv.mean()}')\n"
   ]
  },
  {
   "cell_type": "markdown",
   "id": "ecf3dc9c",
   "metadata": {},
   "source": [
    "Model Evaluation"
   ]
  },
  {
   "cell_type": "code",
   "execution_count": 69,
   "id": "88b39d47",
   "metadata": {},
   "outputs": [
    {
     "name": "stderr",
     "output_type": "stream",
     "text": [
      "C:\\Users\\MMM\\anaconda3\\lib\\site-packages\\sklearn\\linear_model\\_logistic.py:814: ConvergenceWarning: lbfgs failed to converge (status=1):\n",
      "STOP: TOTAL NO. of ITERATIONS REACHED LIMIT.\n",
      "\n",
      "Increase the number of iterations (max_iter) or scale the data as shown in:\n",
      "    https://scikit-learn.org/stable/modules/preprocessing.html\n",
      "Please also refer to the documentation for alternative solver options:\n",
      "    https://scikit-learn.org/stable/modules/linear_model.html#logistic-regression\n",
      "  n_iter_i = _check_optimize_result(\n"
     ]
    },
    {
     "name": "stdout",
     "output_type": "stream",
     "text": [
      "Logistic Regression - Accuracy Score:  0.950875211744777\n",
      "Logistic Regression - Classification Report: \n",
      "               precision    recall  f1-score   support\n",
      "\n",
      "           0       0.95      1.00      0.97      1684\n",
      "           1       0.00      0.00      0.00        87\n",
      "\n",
      "    accuracy                           0.95      1771\n",
      "   macro avg       0.48      0.50      0.49      1771\n",
      "weighted avg       0.90      0.95      0.93      1771\n",
      "\n",
      "Logistic Regression - Confusion Matrix: \n",
      " [[1684    0]\n",
      " [  87    0]]\n",
      "Random Forest - Accuracy Score:  0.9503105590062112\n",
      "Random Forest - Classification Report: \n",
      "               precision    recall  f1-score   support\n",
      "\n",
      "           0       0.95      1.00      0.97      1684\n",
      "           1       0.00      0.00      0.00        87\n",
      "\n",
      "    accuracy                           0.95      1771\n",
      "   macro avg       0.48      0.50      0.49      1771\n",
      "weighted avg       0.90      0.95      0.93      1771\n",
      "\n",
      "Random Forest - Confusion Matrix: \n",
      " [[1683    1]\n",
      " [  87    0]]\n",
      "XGBoost - Accuracy Score:  0.9435347261434218\n",
      "XGBoost - Classification Report: \n",
      "               precision    recall  f1-score   support\n",
      "\n",
      "           0       0.95      0.99      0.97      1684\n",
      "           1       0.00      0.00      0.00        87\n",
      "\n",
      "    accuracy                           0.94      1771\n",
      "   macro avg       0.48      0.50      0.49      1771\n",
      "weighted avg       0.90      0.94      0.92      1771\n",
      "\n",
      "XGBoost - Confusion Matrix: \n",
      " [[1671   13]\n",
      " [  87    0]]\n"
     ]
    },
    {
     "name": "stderr",
     "output_type": "stream",
     "text": [
      "C:\\Users\\MMM\\anaconda3\\lib\\site-packages\\sklearn\\metrics\\_classification.py:1318: UndefinedMetricWarning: Precision and F-score are ill-defined and being set to 0.0 in labels with no predicted samples. Use `zero_division` parameter to control this behavior.\n",
      "  _warn_prf(average, modifier, msg_start, len(result))\n",
      "C:\\Users\\MMM\\anaconda3\\lib\\site-packages\\sklearn\\metrics\\_classification.py:1318: UndefinedMetricWarning: Precision and F-score are ill-defined and being set to 0.0 in labels with no predicted samples. Use `zero_division` parameter to control this behavior.\n",
      "  _warn_prf(average, modifier, msg_start, len(result))\n",
      "C:\\Users\\MMM\\anaconda3\\lib\\site-packages\\sklearn\\metrics\\_classification.py:1318: UndefinedMetricWarning: Precision and F-score are ill-defined and being set to 0.0 in labels with no predicted samples. Use `zero_division` parameter to control this behavior.\n",
      "  _warn_prf(average, modifier, msg_start, len(result))\n",
      "C:\\Users\\MMM\\anaconda3\\lib\\site-packages\\sklearn\\linear_model\\_logistic.py:814: ConvergenceWarning: lbfgs failed to converge (status=1):\n",
      "STOP: TOTAL NO. of ITERATIONS REACHED LIMIT.\n",
      "\n",
      "Increase the number of iterations (max_iter) or scale the data as shown in:\n",
      "    https://scikit-learn.org/stable/modules/preprocessing.html\n",
      "Please also refer to the documentation for alternative solver options:\n",
      "    https://scikit-learn.org/stable/modules/linear_model.html#logistic-regression\n",
      "  n_iter_i = _check_optimize_result(\n",
      "C:\\Users\\MMM\\anaconda3\\lib\\site-packages\\sklearn\\linear_model\\_logistic.py:814: ConvergenceWarning: lbfgs failed to converge (status=1):\n",
      "STOP: TOTAL NO. of ITERATIONS REACHED LIMIT.\n",
      "\n",
      "Increase the number of iterations (max_iter) or scale the data as shown in:\n",
      "    https://scikit-learn.org/stable/modules/preprocessing.html\n",
      "Please also refer to the documentation for alternative solver options:\n",
      "    https://scikit-learn.org/stable/modules/linear_model.html#logistic-regression\n",
      "  n_iter_i = _check_optimize_result(\n",
      "C:\\Users\\MMM\\anaconda3\\lib\\site-packages\\sklearn\\linear_model\\_logistic.py:814: ConvergenceWarning: lbfgs failed to converge (status=1):\n",
      "STOP: TOTAL NO. of ITERATIONS REACHED LIMIT.\n",
      "\n",
      "Increase the number of iterations (max_iter) or scale the data as shown in:\n",
      "    https://scikit-learn.org/stable/modules/preprocessing.html\n",
      "Please also refer to the documentation for alternative solver options:\n",
      "    https://scikit-learn.org/stable/modules/linear_model.html#logistic-regression\n",
      "  n_iter_i = _check_optimize_result(\n"
     ]
    },
    {
     "name": "stdout",
     "output_type": "stream",
     "text": [
      "Logistic Regression CV Mean Score: 0.9510252730377877\n",
      "Random Forest CV Mean Score: 0.9510252730377877\n",
      "XGBoost CV Mean Score: 0.9459406707903385\n"
     ]
    }
   ],
   "source": [
    "from sklearn.metrics import classification_report, confusion_matrix, accuracy_score\n",
    "from sklearn.model_selection import train_test_split\n",
    "from sklearn.linear_model import LogisticRegression\n",
    "from sklearn.ensemble import RandomForestClassifier\n",
    "from xgboost import XGBClassifier\n",
    "\n",
    "# Train-test split\n",
    "X_train, X_test, y_train, y_test = train_test_split(X, y, test_size=0.3, random_state=42)\n",
    "\n",
    "# Models to try: Logistic Regression, Random Forest, XGBoost\n",
    "\n",
    "# 1. Logistic Regression\n",
    "logreg = LogisticRegression()\n",
    "logreg.fit(X_train, y_train)\n",
    "logreg_preds = logreg.predict(X_test)\n",
    "\n",
    "# 2. Random Forest\n",
    "rf = RandomForestClassifier(n_estimators=100, random_state=42)\n",
    "rf.fit(X_train, y_train)\n",
    "rf_preds = rf.predict(X_test)\n",
    "\n",
    "# 3. XGBoost\n",
    "xgb = XGBClassifier(n_estimators=100, random_state=42)\n",
    "xgb.fit(X_train, y_train)\n",
    "xgb_preds = xgb.predict(X_test)\n",
    "\n",
    "# Evaluate Logistic Regression\n",
    "print(\"Logistic Regression - Accuracy Score: \", accuracy_score(y_test, logreg_preds))\n",
    "print(\"Logistic Regression - Classification Report: \\n\", classification_report(y_test, logreg_preds))\n",
    "print(\"Logistic Regression - Confusion Matrix: \\n\", confusion_matrix(y_test, logreg_preds))\n",
    "\n",
    "# Evaluate Random Forest\n",
    "print(\"Random Forest - Accuracy Score: \", accuracy_score(y_test, rf_preds))\n",
    "print(\"Random Forest - Classification Report: \\n\", classification_report(y_test, rf_preds))\n",
    "print(\"Random Forest - Confusion Matrix: \\n\", confusion_matrix(y_test, rf_preds))\n",
    "\n",
    "# Evaluate XGBoost\n",
    "print(\"XGBoost - Accuracy Score: \", accuracy_score(y_test, xgb_preds))\n",
    "print(\"XGBoost - Classification Report: \\n\", classification_report(y_test, xgb_preds))\n",
    "print(\"XGBoost - Confusion Matrix: \\n\", confusion_matrix(y_test, xgb_preds))\n",
    "\n",
    "# Cross-validation to evaluate model performance\n",
    "logreg_cv = cross_val_score(logreg, X, y, cv=5)\n",
    "rf_cv = cross_val_score(rf, X, y, cv=5)\n",
    "xgb_cv = cross_val_score(xgb, X, y, cv=5)\n",
    "\n",
    "print(f'Logistic Regression CV Mean Score: {logreg_cv.mean()}')\n",
    "print(f'Random Forest CV Mean Score: {rf_cv.mean()}')\n",
    "print(f'XGBoost CV Mean Score: {xgb_cv.mean()}')\n"
   ]
  },
  {
   "cell_type": "markdown",
   "id": "08363c78",
   "metadata": {},
   "source": [
    "Feature Importance Plot"
   ]
  },
  {
   "cell_type": "code",
   "execution_count": 70,
   "id": "9f0aa8a0",
   "metadata": {},
   "outputs": [
    {
     "data": {
      "image/png": "[encoded data removed]",
      "text/plain": [
       "<Figure size 720x360 with 1 Axes>"
      ]
     },
     "metadata": {},
     "output_type": "display_data"
    },
    {
     "data": {
      "image/png": "[encoded data removed]",
      "text/plain": [
       "<Figure size 720x360 with 1 Axes>"
      ]
     },
     "metadata": {},
     "output_type": "display_data"
    }
   ],
   "source": [
    "import pandas as pd\n",
    "import matplotlib.pyplot as plt\n",
    "from sklearn.ensemble import RandomForestClassifier\n",
    "from xgboost import XGBClassifier\n",
    "\n",
    "# Assuming you have already preprocessed and split your data\n",
    "# Let's assume X_train and y_train are already defined\n",
    "\n",
    "# Example with Random Forest\n",
    "rf = RandomForestClassifier(n_estimators=100, random_state=42)\n",
    "rf.fit(X_train, y_train)\n",
    "\n",
    "# Get feature importances\n",
    "importances_rf = pd.Series(rf.feature_importances_, index=X.columns)\n",
    "importances_rf.sort_values(ascending=False).plot(kind='bar', figsize=(10, 5), title='Random Forest Feature Importance')\n",
    "plt.tight_layout()\n",
    "plt.show()\n",
    "\n",
    "# Example with XGBoost\n",
    "xgb = XGBClassifier(n_estimators=100, random_state=42)\n",
    "xgb.fit(X_train, y_train)\n",
    "\n",
    "# Get feature importances\n",
    "importances_xgb = pd.Series(xgb.feature_importances_, index=X.columns)\n",
    "importances_xgb.sort_values(ascending=False).plot(kind='bar', figsize=(10, 5), title='XGBoost Feature Importance')\n",
    "plt.tight_layout()\n",
    "plt.show()\n"
   ]
  },
  {
   "cell_type": "code",
   "execution_count": null,
   "id": "390bb7a7",
   "metadata": {},
   "outputs": [],
   "source": []
  },
  {
   "cell_type": "code",
   "execution_count": null,
   "id": "554dde0b",
   "metadata": {},
   "outputs": [],
   "source": []
  },
  {
   "cell_type": "code",
   "execution_count": null,
   "id": "2463d2b3",
   "metadata": {},
   "outputs": [],
   "source": []
  },
  {
   "cell_type": "code",
   "execution_count": null,
   "id": "8a37e5c2",
   "metadata": {},
   "outputs": [],
   "source": []
  },
  {
   "cell_type": "code",
   "execution_count": 71,
   "id": "df633174",
   "metadata": {},
   "outputs": [
    {
     "name": "stdout",
     "output_type": "stream",
     "text": [
      "Requirement already satisfied: flask in c:\\users\\mmm\\anaconda3\\lib\\site-packages (1.1.2)\n",
      "Requirement already satisfied: pandas in c:\\users\\mmm\\anaconda3\\lib\\site-packages (1.4.2)\n",
      "Requirement already satisfied: matplotlib in c:\\users\\mmm\\anaconda3\\lib\\site-packages (3.5.1)\n",
      "Requirement already satisfied: scikit-learn in c:\\users\\mmm\\anaconda3\\lib\\site-packages (1.0.2)\n",
      "Requirement already satisfied: xgboost in c:\\users\\mmm\\anaconda3\\lib\\site-packages (2.1.4)\n",
      "Requirement already satisfied: itsdangerous>=0.24 in c:\\users\\mmm\\anaconda3\\lib\\site-packages (from flask) (2.0.1)\n",
      "Requirement already satisfied: click>=5.1 in c:\\users\\mmm\\anaconda3\\lib\\site-packages (from flask) (8.0.4)\n",
      "Requirement already satisfied: Jinja2>=2.10.1 in c:\\users\\mmm\\anaconda3\\lib\\site-packages (from flask) (2.11.3)\n",
      "Requirement already satisfied: Werkzeug>=0.15 in c:\\users\\mmm\\anaconda3\\lib\\site-packages (from flask) (2.0.3)\n",
      "Requirement already satisfied: numpy>=1.18.5 in c:\\users\\mmm\\anaconda3\\lib\\site-packages (from pandas) (1.21.5)\n",
      "Requirement already satisfied: python-dateutil>=2.8.1 in c:\\users\\mmm\\anaconda3\\lib\\site-packages (from pandas) (2.8.2)\n",
      "Requirement already satisfied: pytz>=2020.1 in c:\\users\\mmm\\anaconda3\\lib\\site-packages (from pandas) (2021.3)\n",
      "Requirement already satisfied: kiwisolver>=1.0.1 in c:\\users\\mmm\\anaconda3\\lib\\site-packages (from matplotlib) (1.3.2)\n",
      "Requirement already satisfied: fonttools>=4.22.0 in c:\\users\\mmm\\anaconda3\\lib\\site-packages (from matplotlib) (4.25.0)\n",
      "Requirement already satisfied: packaging>=20.0 in c:\\users\\mmm\\anaconda3\\lib\\site-packages (from matplotlib) (21.3)\n",
      "Requirement already satisfied: pyparsing>=2.2.1 in c:\\users\\mmm\\anaconda3\\lib\\site-packages (from matplotlib) (3.0.4)\n",
      "Requirement already satisfied: pillow>=6.2.0 in c:\\users\\mmm\\anaconda3\\lib\\site-packages (from matplotlib) (9.0.1)\n",
      "Requirement already satisfied: cycler>=0.10 in c:\\users\\mmm\\anaconda3\\lib\\site-packages (from matplotlib) (0.11.0)\n",
      "Requirement already satisfied: scipy>=1.1.0 in c:\\users\\mmm\\anaconda3\\lib\\site-packages (from scikit-learn) (1.7.3)\n",
      "Requirement already satisfied: joblib>=0.11 in c:\\users\\mmm\\anaconda3\\lib\\site-packages (from scikit-learn) (1.4.2)\n",
      "Requirement already satisfied: threadpoolctl>=2.0.0 in c:\\users\\mmm\\anaconda3\\lib\\site-packages (from scikit-learn) (2.2.0)\n",
      "Requirement already satisfied: colorama in c:\\users\\mmm\\anaconda3\\lib\\site-packages (from click>=5.1->flask) (0.4.4)\n",
      "Requirement already satisfied: MarkupSafe>=0.23 in c:\\users\\mmm\\anaconda3\\lib\\site-packages (from Jinja2>=2.10.1->flask) (2.0.1)\n",
      "Requirement already satisfied: six>=1.5 in c:\\users\\mmm\\anaconda3\\lib\\site-packages (from python-dateutil>=2.8.1->pandas) (1.16.0)\n"
     ]
    }
   ],
   "source": [
    "! pip install flask pandas matplotlib scikit-learn xgboost"
   ]
  },
  {
   "cell_type": "code",
   "execution_count": 72,
   "id": "67e1021d",
   "metadata": {},
   "outputs": [
    {
     "ename": "IndentationError",
     "evalue": "unexpected indent (815844751.py, line 2)",
     "output_type": "error",
     "traceback": [
      "\u001b[1;36m  Input \u001b[1;32mIn [72]\u001b[1;36m\u001b[0m\n\u001b[1;33m    static()\u001b[0m\n\u001b[1;37m    ^\u001b[0m\n\u001b[1;31mIndentationError\u001b[0m\u001b[1;31m:\u001b[0m unexpected indent\n"
     ]
    }
   ],
   "source": [
    "/ecommerce_dashboard\n",
    "    /static\n",
    "        /css\n",
    "        /js\n",
    "    /templates\n",
    "        index.html\n",
    "        result.html\n",
    "    app.py\n",
    "    model.py\n"
   ]
  },
  {
   "cell_type": "code",
   "execution_count": 73,
   "id": "52b07713",
   "metadata": {},
   "outputs": [
    {
     "name": "stdout",
     "output_type": "stream",
     "text": [
      "✅ Model trained and saved as model.pkl\n"
     ]
    }
   ],
   "source": [
    "import pandas as pd\n",
    "from sklearn.ensemble import RandomForestClassifier\n",
    "from sklearn.model_selection import train_test_split\n",
    "import pickle\n",
    "\n",
    "# Load your dataset (adjust path as needed)\n",
    "df = pd.read_excel('SuperStore Sales DataSet.xlsx')\n",
    "\n",
    "# Basic preprocessing (make sure 'Returns' column exists and is binary: 0/1)\n",
    "df['Returns'] = df['Returns'].fillna(0).astype(int)\n",
    "\n",
    "# Feature selection – adjust as needed\n",
    "features = ['Quantity', 'Profit']  # Add more features if necessary\n",
    "X = df[features]\n",
    "y = df['Returns']\n",
    "\n",
    "# Train-test split\n",
    "X_train, X_test, y_train, y_test = train_test_split(X, y, test_size=0.2, random_state=42)\n",
    "\n",
    "# Train a Random Forest model\n",
    "model = RandomForestClassifier(n_estimators=100, random_state=42)\n",
    "model.fit(X_train, y_train)\n",
    "\n",
    "# Save the model to a pickle file\n",
    "with open('model.pkl', 'wb') as f:\n",
    "    pickle.dump(model, f)\n",
    "\n",
    "print(\"✅ Model trained and saved as model.pkl\")\n"
   ]
  },
  {
   "cell_type": "code",
   "execution_count": null,
   "id": "287a3c08",
   "metadata": {},
   "outputs": [],
   "source": []
  },
  {
   "cell_type": "code",
   "execution_count": null,
   "id": "f9c5d9e3",
   "metadata": {},
   "outputs": [],
   "source": []
  },
  {
   "cell_type": "code",
   "execution_count": 74,
   "id": "76940730",
   "metadata": {},
   "outputs": [],
   "source": [
    "import pickle\n",
    "\n",
    "# Load the trained model\n",
    "with open('model.pkl', 'rb') as model_file:\n",
    "    model = pickle.load(model_file)"
   ]
  },
  {
   "cell_type": "code",
   "execution_count": 75,
   "id": "142dca31",
   "metadata": {},
   "outputs": [
    {
     "name": "stdout",
     "output_type": "stream",
     "text": [
      "Model trained and saved as model.pkl\n"
     ]
    }
   ],
   "source": [
    "import pandas as pd\n",
    "from sklearn.model_selection import train_test_split\n",
    "from sklearn.ensemble import RandomForestClassifier\n",
    "import pickle\n",
    "\n",
    "# Load your data\n",
    "df = pd.read_excel(\"SuperStore Sales DataSet.xlsx\")\n",
    "\n",
    "# Example preprocessing (you can customize this)\n",
    "df = df.dropna()\n",
    "df['Returns'] = df['Returns'].astype(int)\n",
    "\n",
    "# Feature selection\n",
    "X = df[['Quantity', 'Profit']]  # Add other relevant features\n",
    "y = df['Returns']\n",
    "\n",
    "# Train-test split\n",
    "X_train, X_test, y_train, y_test = train_test_split(X, y, test_size=0.2, random_state=42)\n",
    "\n",
    "# Train model\n",
    "model = RandomForestClassifier()\n",
    "model.fit(X_train, y_train)\n",
    "\n",
    "# Save the model\n",
    "with open('model.pkl', 'wb') as f:\n",
    "    pickle.dump(model, f)\n",
    "\n",
    "print(\"Model trained and saved as model.pkl\")\n"
   ]
  },
  {
   "cell_type": "code",
   "execution_count": 76,
   "id": "ff5e876a",
   "metadata": {},
   "outputs": [
    {
     "name": "stdout",
     "output_type": "stream",
     "text": [
      "✅ Model saved as model.pkl\n"
     ]
    }
   ],
   "source": [
    "import pandas as pd\n",
    "import pickle\n",
    "from sklearn.model_selection import train_test_split\n",
    "from sklearn.ensemble import RandomForestClassifier\n",
    "\n",
    "# Load data\n",
    "df = pd.read_excel(\"SuperStore Sales DataSet.xlsx\")\n",
    "\n",
    "# Example preprocessing (customize as needed)\n",
    "df.dropna(subset=['Profit', 'Quantity', 'Returns'], inplace=True)\n",
    "df['Returns'] = df['Returns'].astype(int)  # ensure binary (0/1)\n",
    "\n",
    "# Features and target\n",
    "X = df[['Profit', 'Quantity']]  # Add more features if needed\n",
    "y = df['Returns']\n",
    "\n",
    "# Train model\n",
    "X_train, X_test, y_train, y_test = train_test_split(X, y, test_size=0.2, random_state=42)\n",
    "model = RandomForestClassifier()\n",
    "model.fit(X_train, y_train)\n",
    "\n",
    "# Save the model\n",
    "with open('model.pkl', 'wb') as f:\n",
    "    pickle.dump(model, f)\n",
    "\n",
    "print(\"✅ Model saved as model.pkl\")\n"
   ]
  },
  {
   "cell_type": "code",
   "execution_count": 77,
   "id": "6e923f5c",
   "metadata": {},
   "outputs": [
    {
     "name": "stdout",
     "output_type": "stream",
     "text": [
      "✅ Model saved as model.pkl\n"
     ]
    }
   ],
   "source": [
    "import pandas as pd\n",
    "import pickle\n",
    "from sklearn.model_selection import train_test_split\n",
    "from sklearn.ensemble import RandomForestClassifier\n",
    "\n",
    "# Load the dataset\n",
    "df = pd.read_excel(\"SuperStore Sales DataSet.xlsx\")\n",
    "\n",
    "# Preprocess the data\n",
    "df.dropna(subset=['Profit', 'Quantity', 'Returns'], inplace=True)\n",
    "df['Returns'] = df['Returns'].astype(int)\n",
    "\n",
    "# Feature selection\n",
    "X = df[['Profit', 'Quantity']]\n",
    "y = df['Returns']\n",
    "\n",
    "# Split the data\n",
    "X_train, X_test, y_train, y_test = train_test_split(X, y, test_size=0.2, random_state=42)\n",
    "\n",
    "# Train the model\n",
    "model = RandomForestClassifier()\n",
    "model.fit(X_train, y_train)\n",
    "\n",
    "# Save the model\n",
    "with open('model.pkl', 'wb') as f:\n",
    "    pickle.dump(model, f)\n",
    "\n",
    "print(\"✅ Model saved as model.pkl\")\n"
   ]
  },
  {
   "cell_type": "code",
   "execution_count": 78,
   "id": "26c43378",
   "metadata": {},
   "outputs": [
    {
     "name": "stdout",
     "output_type": "stream",
     "text": [
      "1.0.2\n"
     ]
    }
   ],
   "source": [
    "import sklearn\n",
    "print(sklearn.__version__)\n"
   ]
  },
  {
   "cell_type": "code",
   "execution_count": 79,
   "id": "a49099c8",
   "metadata": {},
   "outputs": [
    {
     "name": "stdout",
     "output_type": "stream",
     "text": [
      "Collecting scikit-learn==1.3.0\n",
      "  Using cached scikit_learn-1.3.0-cp39-cp39-win_amd64.whl (9.3 MB)\n",
      "Requirement already satisfied: numpy>=1.17.3 in c:\\users\\mmm\\anaconda3\\lib\\site-packages (from scikit-learn==1.3.0) (1.21.5)\n",
      "Requirement already satisfied: joblib>=1.1.1 in c:\\users\\mmm\\anaconda3\\lib\\site-packages (from scikit-learn==1.3.0) (1.4.2)\n",
      "Requirement already satisfied: scipy>=1.5.0 in c:\\users\\mmm\\anaconda3\\lib\\site-packages (from scikit-learn==1.3.0) (1.7.3)\n",
      "Requirement already satisfied: threadpoolctl>=2.0.0 in c:\\users\\mmm\\anaconda3\\lib\\site-packages (from scikit-learn==1.3.0) (2.2.0)\n",
      "Installing collected packages: scikit-learn\n",
      "  Attempting uninstall: scikit-learn\n",
      "    Found existing installation: scikit-learn 1.0.2\n",
      "    Uninstalling scikit-learn-1.0.2:\n",
      "      Successfully uninstalled scikit-learn-1.0.2\n",
      "Successfully installed scikit-learn-1.3.0\n"
     ]
    }
   ],
   "source": [
    "! pip install --upgrade scikit-learn==1.3.0"
   ]
  },
  {
   "cell_type": "code",
   "execution_count": 80,
   "id": "a1de7b01",
   "metadata": {},
   "outputs": [],
   "source": [
    "scaler = StandardScaler()"
   ]
  },
  {
   "cell_type": "code",
   "execution_count": 81,
   "id": "fbb9f23b",
   "metadata": {},
   "outputs": [
    {
     "name": "stdout",
     "output_type": "stream",
     "text": [
      "[[-1. -1.]\n",
      " [ 1.  1.]]\n"
     ]
    }
   ],
   "source": [
    "from sklearn.preprocessing import StandardScaler\n",
    "\n",
    "# Define the input data (this should be the data you want to scale)\n",
    "user_input = [[100, 25], [150, 30]]  # Replace this with your actual input data\n",
    "\n",
    "# Initialize the scaler\n",
    "scaler = StandardScaler()\n",
    "\n",
    "# Scale the input data\n",
    "user_input_scaled = scaler.fit_transform(user_input)\n",
    "\n",
    "# Now, user_input_scaled contains the scaled version of your input data\n",
    "print(user_input_scaled)\n"
   ]
  },
  {
   "cell_type": "code",
   "execution_count": 82,
   "id": "6587126c",
   "metadata": {},
   "outputs": [
    {
     "name": "stdout",
     "output_type": "stream",
     "text": [
      "Prediction: [0 0]\n"
     ]
    },
    {
     "name": "stderr",
     "output_type": "stream",
     "text": [
      "C:\\Users\\MMM\\anaconda3\\lib\\site-packages\\sklearn\\base.py:450: UserWarning: X does not have valid feature names, but RandomForestClassifier was fitted with feature names\n",
      "  X_feature_names = _get_feature_names(X)\n"
     ]
    }
   ],
   "source": [
    "# Assuming you have a trained model (e.g., loaded with pickle)\n",
    "# For example:\n",
    "# model = pickle.load(open('model.pkl', 'rb'))\n",
    "\n",
    "# Use the scaled user input for prediction\n",
    "prediction = model.predict(user_input_scaled)\n",
    "\n",
    "print(f\"Prediction: {prediction}\")\n"
   ]
  },
  {
   "cell_type": "code",
   "execution_count": 83,
   "id": "9fd93011",
   "metadata": {},
   "outputs": [
    {
     "name": "stdout",
     "output_type": "stream",
     "text": [
      "Collecting scikit-learn==1.0.2\n",
      "  Using cached scikit_learn-1.0.2-cp39-cp39-win_amd64.whl (7.2 MB)\n",
      "Requirement already satisfied: threadpoolctl>=2.0.0 in c:\\users\\mmm\\anaconda3\\lib\\site-packages (from scikit-learn==1.0.2) (2.2.0)\n",
      "Requirement already satisfied: numpy>=1.14.6 in c:\\users\\mmm\\anaconda3\\lib\\site-packages (from scikit-learn==1.0.2) (1.21.5)\n",
      "Requirement already satisfied: joblib>=0.11 in c:\\users\\mmm\\anaconda3\\lib\\site-packages (from scikit-learn==1.0.2) (1.4.2)\n",
      "Requirement already satisfied: scipy>=1.1.0 in c:\\users\\mmm\\anaconda3\\lib\\site-packages (from scikit-learn==1.0.2) (1.7.3)\n",
      "Installing collected packages: scikit-learn\n",
      "  Attempting uninstall: scikit-learn\n",
      "    Found existing installation: scikit-learn 1.3.0\n",
      "    Uninstalling scikit-learn-1.3.0:\n",
      "      Successfully uninstalled scikit-learn-1.3.0\n",
      "Successfully installed scikit-learn-1.0.2\n"
     ]
    }
   ],
   "source": [
    "! pip install scikit-learn==1.0.2"
   ]
  },
  {
   "cell_type": "code",
   "execution_count": null,
   "id": "cbbe2cba",
   "metadata": {},
   "outputs": [],
   "source": []
  },
  {
   "cell_type": "code",
   "execution_count": 84,
   "id": "b85564ba",
   "metadata": {},
   "outputs": [],
   "source": [
    "from sklearn.preprocessing import StandardScaler\n",
    "scaler = StandardScaler()\n",
    "scaler.fit(X_train)  # Assuming X_train is your training data\n",
    "with open('scaler.pkl', 'wb') as f:\n",
    "    pickle.dump(scaler, f)\n"
   ]
  },
  {
   "cell_type": "code",
   "execution_count": null,
   "id": "a4431afb",
   "metadata": {},
   "outputs": [],
   "source": []
  },
  {
   "cell_type": "code",
   "execution_count": null,
   "id": "09fef0a7",
   "metadata": {},
   "outputs": [],
   "source": []
  },
  {
   "cell_type": "code",
   "execution_count": null,
   "id": "7a242a6d",
   "metadata": {},
   "outputs": [],
   "source": []
  }
 ],
 "metadata": {
  "kernelspec": {
   "display_name": "Python 3 (ipykernel)",
   "language": "python",
   "name": "python3"
  },
  "language_info": {
   "codemirror_mode": {
    "name": "ipython",
    "version": 3
   },
   "file_extension": ".py",
   "mimetype": "text/x-python",
   "name": "python",
   "nbconvert_exporter": "python",
   "pygments_lexer": "ipython3",
   "version": "3.9.12"
  }
 },
 "nbformat": 4,
 "nbformat_minor": 5
}
